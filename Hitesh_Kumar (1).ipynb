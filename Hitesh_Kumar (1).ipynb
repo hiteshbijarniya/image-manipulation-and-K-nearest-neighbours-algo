{
  "nbformat": 4,
  "nbformat_minor": 0,
  "metadata": {
    "colab": {
      "name": "Hitesh_Kumar.ipynb",
      "provenance": [],
      "collapsed_sections": []
    },
    "kernelspec": {
      "name": "python3",
      "display_name": "Python 3"
    }
  },
  "cells": [
    {
      "cell_type": "markdown",
      "metadata": {
        "id": "iNZjHZk-9Cdz"
      },
      "source": [
        "Importing Important Libraries....\n"
      ]
    },
    {
      "cell_type": "code",
      "metadata": {
        "id": "PaVWQc79-b55"
      },
      "source": [
        "import pandas as pd\n",
        "import numpy as np"
      ],
      "execution_count": 31,
      "outputs": []
    },
    {
      "cell_type": "markdown",
      "metadata": {
        "id": "mrLsuVXU9H3p"
      },
      "source": [
        "Importing Important Dataset files...."
      ]
    },
    {
      "cell_type": "code",
      "metadata": {
        "id": "7pIqSmGKm8L7"
      },
      "source": [
        "from sklearn.datasets import load_iris\n",
        "iris_dataset = load_iris()"
      ],
      "execution_count": 32,
      "outputs": []
    },
    {
      "cell_type": "markdown",
      "metadata": {
        "id": "8ws0cYVu9Ryo"
      },
      "source": [
        "Printing the Keys Present in the IRIS dataset...."
      ]
    },
    {
      "cell_type": "code",
      "metadata": {
        "colab": {
          "base_uri": "https://localhost:8080/"
        },
        "id": "koFYcajYnr2X",
        "outputId": "15081b30-d43f-446b-a0b9-827e9529de91"
      },
      "source": [
        "print(\"Keys Of IRIS dataset: \\n{}\".format(iris_dataset.keys()))"
      ],
      "execution_count": 33,
      "outputs": [
        {
          "output_type": "stream",
          "text": [
            "Keys Of IRIS dataset: \n",
            "dict_keys(['data', 'target', 'target_names', 'DESCR', 'feature_names', 'filename'])\n"
          ],
          "name": "stdout"
        }
      ]
    },
    {
      "cell_type": "markdown",
      "metadata": {
        "id": "APsVLVzp9Yr9"
      },
      "source": [
        "Key dataset Description(DESCR)...."
      ]
    },
    {
      "cell_type": "code",
      "metadata": {
        "id": "jDQkPhmhpUlA",
        "colab": {
          "base_uri": "https://localhost:8080/"
        },
        "outputId": "e9ab3cfd-b243-49d9-d6f1-f7b62374007f"
      },
      "source": [
        "value = iris_dataset['DESCR']\n",
        "start_value = value[:190]\n",
        "print(start_value + \"\\n...\")"
      ],
      "execution_count": 34,
      "outputs": [
        {
          "output_type": "stream",
          "text": [
            ".. _iris_dataset:\n",
            "\n",
            "Iris plants dataset\n",
            "--------------------\n",
            "\n",
            "**Data Set Characteristics:**\n",
            "\n",
            "    :Number of Instances: 150 (50 in each of three classes)\n",
            "    :Number of Attributes: 4 numeric, \n",
            "...\n"
          ],
          "name": "stdout"
        }
      ]
    },
    {
      "cell_type": "markdown",
      "metadata": {
        "id": "UFlNQ5HD9lGB"
      },
      "source": [
        "Printing key Target Names...."
      ]
    },
    {
      "cell_type": "code",
      "metadata": {
        "colab": {
          "base_uri": "https://localhost:8080/"
        },
        "id": "Oy0rETEYqC8-",
        "outputId": "5ffe1790-f697-496b-e813-ec6758c877bc"
      },
      "source": [
        "print(\"Target Names: {}\".format(iris_dataset['target_names']))"
      ],
      "execution_count": 35,
      "outputs": [
        {
          "output_type": "stream",
          "text": [
            "Target Names: ['setosa' 'versicolor' 'virginica']\n"
          ],
          "name": "stdout"
        }
      ]
    },
    {
      "cell_type": "markdown",
      "metadata": {
        "id": "ksJtKb2J9qE5"
      },
      "source": [
        "Printing the types of Features Names present in IRIS Dataset...."
      ]
    },
    {
      "cell_type": "code",
      "metadata": {
        "colab": {
          "base_uri": "https://localhost:8080/"
        },
        "id": "dzChLPSuqo4R",
        "outputId": "5a6be35a-3439-4db8-9491-1ee688e531b7"
      },
      "source": [
        "print(\"Feature Names: \\n {}\".format(iris_dataset['feature_names']))"
      ],
      "execution_count": 36,
      "outputs": [
        {
          "output_type": "stream",
          "text": [
            "Feature Names: \n",
            " ['sepal length (cm)', 'sepal width (cm)', 'petal length (cm)', 'petal width (cm)']\n"
          ],
          "name": "stdout"
        }
      ]
    },
    {
      "cell_type": "markdown",
      "metadata": {
        "id": "PmoZ0U8l9y7q"
      },
      "source": [
        "Printing type of data Present...."
      ]
    },
    {
      "cell_type": "code",
      "metadata": {
        "colab": {
          "base_uri": "https://localhost:8080/"
        },
        "id": "mz7uKYK6q5Vb",
        "outputId": "9c66ba31-ba0d-4339-92d9-dca1c8d7ecb4"
      },
      "source": [
        "print(\"Type Of DATA : {}\".format(type(iris_dataset['data'])))"
      ],
      "execution_count": 37,
      "outputs": [
        {
          "output_type": "stream",
          "text": [
            "Type Of DATA : <class 'numpy.ndarray'>\n"
          ],
          "name": "stdout"
        }
      ]
    },
    {
      "cell_type": "markdown",
      "metadata": {
        "id": "9M-FYGxj94ZQ"
      },
      "source": [
        "Printing the shape Of DATA Present ...."
      ]
    },
    {
      "cell_type": "code",
      "metadata": {
        "colab": {
          "base_uri": "https://localhost:8080/"
        },
        "id": "n3vdqAEhrZ5Z",
        "outputId": "c40f8be6-8c1b-42f8-ed1a-dc1e06ce63ee"
      },
      "source": [
        "print(\"Shape Of DATA : {}\".format(iris_dataset['data'].shape))"
      ],
      "execution_count": 38,
      "outputs": [
        {
          "output_type": "stream",
          "text": [
            "Shape Of DATA : (150, 4)\n"
          ],
          "name": "stdout"
        }
      ]
    },
    {
      "cell_type": "markdown",
      "metadata": {
        "id": "cCJQkTaX9-dO"
      },
      "source": [
        "How the dataset looks like Example of first 20 ROWS...."
      ]
    },
    {
      "cell_type": "code",
      "metadata": {
        "id": "GJJA1xM3rZgg",
        "colab": {
          "base_uri": "https://localhost:8080/"
        },
        "outputId": "9ec58e10-31df-42f3-dcd5-d928b996a523"
      },
      "source": [
        "print(\"First 20 Rows of DATASET: \\n{}\".format(iris_dataset['data'][:20]))"
      ],
      "execution_count": 39,
      "outputs": [
        {
          "output_type": "stream",
          "text": [
            "First 20 Rows of DATASET: \n",
            "[[5.1 3.5 1.4 0.2]\n",
            " [4.9 3.  1.4 0.2]\n",
            " [4.7 3.2 1.3 0.2]\n",
            " [4.6 3.1 1.5 0.2]\n",
            " [5.  3.6 1.4 0.2]\n",
            " [5.4 3.9 1.7 0.4]\n",
            " [4.6 3.4 1.4 0.3]\n",
            " [5.  3.4 1.5 0.2]\n",
            " [4.4 2.9 1.4 0.2]\n",
            " [4.9 3.1 1.5 0.1]\n",
            " [5.4 3.7 1.5 0.2]\n",
            " [4.8 3.4 1.6 0.2]\n",
            " [4.8 3.  1.4 0.1]\n",
            " [4.3 3.  1.1 0.1]\n",
            " [5.8 4.  1.2 0.2]\n",
            " [5.7 4.4 1.5 0.4]\n",
            " [5.4 3.9 1.3 0.4]\n",
            " [5.1 3.5 1.4 0.3]\n",
            " [5.7 3.8 1.7 0.3]\n",
            " [5.1 3.8 1.5 0.3]]\n"
          ],
          "name": "stdout"
        }
      ]
    },
    {
      "cell_type": "markdown",
      "metadata": {
        "id": "GXY4PH6b-KMb"
      },
      "source": [
        "Printing the type of target key...."
      ]
    },
    {
      "cell_type": "code",
      "metadata": {
        "colab": {
          "base_uri": "https://localhost:8080/"
        },
        "id": "cWSGg74Psews",
        "outputId": "9858a4de-e5a6-45f4-b095-eaa425c7cc69"
      },
      "source": [
        "print(\"Type of Target: {}\".format(type(iris_dataset['target'])))"
      ],
      "execution_count": 40,
      "outputs": [
        {
          "output_type": "stream",
          "text": [
            "Type of Target: <class 'numpy.ndarray'>\n"
          ],
          "name": "stdout"
        }
      ]
    },
    {
      "cell_type": "markdown",
      "metadata": {
        "id": "eUKgcSOG-TM_"
      },
      "source": [
        "Printing the shape of target datakey...."
      ]
    },
    {
      "cell_type": "code",
      "metadata": {
        "colab": {
          "base_uri": "https://localhost:8080/"
        },
        "id": "8aEifMjLsx2z",
        "outputId": "33c795bb-d09e-40b6-d1f0-84656d1c35d4"
      },
      "source": [
        "print(\"Shape Of Target: {}\".format(iris_dataset['target'].shape))"
      ],
      "execution_count": 41,
      "outputs": [
        {
          "output_type": "stream",
          "text": [
            "Shape Of Target: (150,)\n"
          ],
          "name": "stdout"
        }
      ]
    },
    {
      "cell_type": "markdown",
      "metadata": {
        "id": "boZCX2Ea-XWN"
      },
      "source": [
        "Printing the Target Dataset...."
      ]
    },
    {
      "cell_type": "code",
      "metadata": {
        "colab": {
          "base_uri": "https://localhost:8080/"
        },
        "id": "d4XyJV-LtGUx",
        "outputId": "e121c355-ba9a-4558-a817-6379ba456993"
      },
      "source": [
        "print(\"Target:\\n{}\".format(iris_dataset['target']))"
      ],
      "execution_count": 42,
      "outputs": [
        {
          "output_type": "stream",
          "text": [
            "Target:\n",
            "[0 0 0 0 0 0 0 0 0 0 0 0 0 0 0 0 0 0 0 0 0 0 0 0 0 0 0 0 0 0 0 0 0 0 0 0 0\n",
            " 0 0 0 0 0 0 0 0 0 0 0 0 0 1 1 1 1 1 1 1 1 1 1 1 1 1 1 1 1 1 1 1 1 1 1 1 1\n",
            " 1 1 1 1 1 1 1 1 1 1 1 1 1 1 1 1 1 1 1 1 1 1 1 1 1 1 2 2 2 2 2 2 2 2 2 2 2\n",
            " 2 2 2 2 2 2 2 2 2 2 2 2 2 2 2 2 2 2 2 2 2 2 2 2 2 2 2 2 2 2 2 2 2 2 2 2 2\n",
            " 2 2]\n"
          ],
          "name": "stdout"
        }
      ]
    },
    {
      "cell_type": "markdown",
      "metadata": {
        "id": "q5Jdk1Cn-cg2"
      },
      "source": [
        "Importing train_test_split from model selection of sklearn...."
      ]
    },
    {
      "cell_type": "code",
      "metadata": {
        "id": "BA80rcrDtmUV"
      },
      "source": [
        "from sklearn.model_selection import train_test_split\n",
        "Xtrain, Xtest, Ytrain, Ytest = train_test_split(\n",
        "              iris_dataset['data'], iris_dataset['target'], random_state = 0)"
      ],
      "execution_count": 43,
      "outputs": []
    },
    {
      "cell_type": "markdown",
      "metadata": {
        "id": "wSiw2KVQ-l73"
      },
      "source": [
        "Printing the Tuple Returned from train_test_split...."
      ]
    },
    {
      "cell_type": "code",
      "metadata": {
        "id": "59yLimVCzLgJ",
        "colab": {
          "base_uri": "https://localhost:8080/"
        },
        "outputId": "19f37da7-9f4f-452c-b0af-8477becbdac2"
      },
      "source": [
        "print(\"X_train shape: {}\".format(Xtrain.shape))\n",
        "print(\"Y_train shape: {}\".format(Ytrain.shape))\n",
        "print(\"X_test shape: {}\".format(Xtest.shape))\n",
        "print(\"Y_test shape: {}\".format(Ytest.shape))"
      ],
      "execution_count": 44,
      "outputs": [
        {
          "output_type": "stream",
          "text": [
            "X_train shape: (112, 4)\n",
            "Y_train shape: (112,)\n",
            "X_test shape: (38, 4)\n",
            "Y_test shape: (38,)\n"
          ],
          "name": "stdout"
        }
      ]
    },
    {
      "cell_type": "markdown",
      "metadata": {
        "id": "dyoxuqpU-uZK"
      },
      "source": [
        "Implementing K Nearest Neighbors...."
      ]
    },
    {
      "cell_type": "code",
      "metadata": {
        "id": "ssPbxxIdzrec"
      },
      "source": [
        "from sklearn.neighbors import KNeighborsClassifier\n",
        "knn = KNeighborsClassifier(n_neighbors = 1)"
      ],
      "execution_count": 48,
      "outputs": []
    },
    {
      "cell_type": "code",
      "metadata": {
        "id": "6CGtraci40ys",
        "colab": {
          "base_uri": "https://localhost:8080/"
        },
        "outputId": "6c190dc8-6c53-4ff5-b2b7-f46e21dd483c"
      },
      "source": [
        "knn.fit(Xtrain, Ytrain)"
      ],
      "execution_count": 49,
      "outputs": [
        {
          "output_type": "execute_result",
          "data": {
            "text/plain": [
              "KNeighborsClassifier(algorithm='auto', leaf_size=30, metric='minkowski',\n",
              "                     metric_params=None, n_jobs=None, n_neighbors=1, p=2,\n",
              "                     weights='uniform')"
            ]
          },
          "metadata": {
            "tags": []
          },
          "execution_count": 49
        }
      ]
    },
    {
      "cell_type": "markdown",
      "metadata": {
        "id": "Q2lTRFuX--MW"
      },
      "source": [
        "Example Using for checking accuracy by new shape...."
      ]
    },
    {
      "cell_type": "code",
      "metadata": {
        "id": "y6VPm_ZK5VFW",
        "colab": {
          "base_uri": "https://localhost:8080/"
        },
        "outputId": "57c8cad3-13c7-41b4-c6e4-0312c395cde6"
      },
      "source": [
        "X_new = np.array([[5, 2.9, 1, 0.2]])\n",
        "print(\"X_new.shape : {}\".format(X_new.shape))"
      ],
      "execution_count": 50,
      "outputs": [
        {
          "output_type": "stream",
          "text": [
            "X_new.shape : (1, 4)\n"
          ],
          "name": "stdout"
        }
      ]
    },
    {
      "cell_type": "markdown",
      "metadata": {
        "id": "PN4mbhR__FgV"
      },
      "source": [
        "Doing the Predictions...."
      ]
    },
    {
      "cell_type": "code",
      "metadata": {
        "colab": {
          "base_uri": "https://localhost:8080/"
        },
        "id": "MXRQGAoO50UZ",
        "outputId": "e08915f3-f678-4495-d735-450a075f45ab"
      },
      "source": [
        "prediction = knn.predict(X_new)\n",
        "\n",
        "print(\"Prediction : {}\".format(prediction))\n",
        "print(\"Predicted Target Name: {}\".format(iris_dataset['target_names'][prediction]))"
      ],
      "execution_count": 51,
      "outputs": [
        {
          "output_type": "stream",
          "text": [
            "Prediction : [0]\n",
            "Predicted Target Name: ['setosa']\n"
          ],
          "name": "stdout"
        }
      ]
    },
    {
      "cell_type": "markdown",
      "metadata": {
        "id": "v1qS1RdC_LMj"
      },
      "source": [
        "Printing the Complete Predictions Set...."
      ]
    },
    {
      "cell_type": "code",
      "metadata": {
        "colab": {
          "base_uri": "https://localhost:8080/"
        },
        "id": "YNp1RumG6x7s",
        "outputId": "f986e350-65ee-45de-f00e-3f66b62e0e70"
      },
      "source": [
        "y_pred = knn.predict(Xtest)\n",
        "print(\"Test Set Predictions: \\n {}\".format(y_pred))"
      ],
      "execution_count": 53,
      "outputs": [
        {
          "output_type": "stream",
          "text": [
            "Test Set Predictions: \n",
            " [2 1 0 2 0 2 0 1 1 1 2 1 1 1 1 0 1 1 0 0 2 1 0 0 2 0 0 1 1 0 2 1 0 2 2 1 0\n",
            " 2]\n"
          ],
          "name": "stdout"
        }
      ]
    },
    {
      "cell_type": "markdown",
      "metadata": {
        "id": "g9qssE5b_Rrp"
      },
      "source": [
        "Printing the Accuracy Of Project.... #Result\r\n",
        "\r\n",
        "> Indented block\r\n",
        "\r\n"
      ]
    },
    {
      "cell_type": "code",
      "metadata": {
        "colab": {
          "base_uri": "https://localhost:8080/"
        },
        "id": "kNrY96_27Gdf",
        "outputId": "ff2d5397-013d-480b-c6df-2269fd650114"
      },
      "source": [
        "print(\"Test Set Score: {}\".format(np.mean(y_pred == Ytest)))"
      ],
      "execution_count": 54,
      "outputs": [
        {
          "output_type": "stream",
          "text": [
            "Test Set Score: 0.9736842105263158\n"
          ],
          "name": "stdout"
        }
      ]
    },
    {
      "cell_type": "markdown",
      "metadata": {
        "id": "1U_0aKv9_YDP"
      },
      "source": [
        "END OF PROJECT :)"
      ]
    }
  ]
}